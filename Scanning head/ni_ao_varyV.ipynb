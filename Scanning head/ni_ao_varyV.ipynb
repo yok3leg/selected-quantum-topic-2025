{
 "cells": [
  {
   "cell_type": "code",
   "execution_count": 2,
   "id": "69702d23",
   "metadata": {},
   "outputs": [],
   "source": [
    "import numpy as np\n",
    "import nidaqmx\n",
    "from nidaqmx.constants import Edge, LineGrouping\n",
    "from nidaqmx.stream_writers import AnalogMultiChannelWriter, DigitalSingleChannelWriter\n",
    "import time"
   ]
  },
  {
   "cell_type": "code",
   "execution_count": 3,
   "id": "259a1519",
   "metadata": {},
   "outputs": [
    {
     "name": "stdout",
     "output_type": "stream",
     "text": [
      "Sweep complete. Resetting both channels to 0 V...\n",
      "Both channels set to 0 V and task finished.\n"
     ]
    }
   ],
   "source": [
    "# Generate sweep arrays\n",
    "voltages_ao1 = np.linspace(-2, 2, 11)  # AO1:\n",
    "voltages_ao2 = np.linspace(-2, 2, 11)  # AO2:\n",
    "\n",
    "# Voltage range limits\n",
    "v_min = -2.0\n",
    "v_max = 2.0\n",
    "\n",
    "# Delay between voltage steps (in seconds)\n",
    "delay = 0.1\n",
    "\n",
    "# Create and use the DAQ task\n",
    "with nidaqmx.Task() as task:\n",
    "    # Add AO channels with voltage limits\n",
    "    task.ao_channels.add_ao_voltage_chan(\"Dev1/ao1\", min_val=v_min, max_val=v_max)\n",
    "    task.ao_channels.add_ao_voltage_chan(\"Dev1/ao2\", min_val=v_min, max_val=v_max)\n",
    "\n",
    "    # Sweep voltage output\n",
    "    for v1, v2 in zip(voltages_ao1, voltages_ao2):\n",
    "        task.write([v1, v2])\n",
    "        time.sleep(delay)\n",
    "\n",
    "    print(\"Sweep complete. Resetting both channels to 0 V...\")\n",
    "\n",
    "    # Set both AO1 and AO2 to 0V\n",
    "    task.write([0.0, 0.0])\n",
    "    time.sleep(0.1)  # Optional: allow time for voltage to settle\n",
    "\n",
    "print(\"Both channels set to 0 V and task finished.\")"
   ]
  },
  {
   "cell_type": "code",
   "execution_count": null,
   "id": "5856c698",
   "metadata": {},
   "outputs": [
    {
     "ename": "KeyboardInterrupt",
     "evalue": "",
     "output_type": "error",
     "traceback": [
      "\u001b[1;31m---------------------------------------------------------------------------\u001b[0m",
      "\u001b[1;31mKeyboardInterrupt\u001b[0m                         Traceback (most recent call last)",
      "Cell \u001b[1;32mIn[5], line 47\u001b[0m\n\u001b[0;32m     45\u001b[0m \u001b[38;5;28;01mfor\u001b[39;00m v1, v2 \u001b[38;5;129;01min\u001b[39;00m \u001b[38;5;28mzip\u001b[39m(voltages_ao1, voltages_ao2):\n\u001b[0;32m     46\u001b[0m     task\u001b[38;5;241m.\u001b[39mwrite([v1, v2])\n\u001b[1;32m---> 47\u001b[0m     time\u001b[38;5;241m.\u001b[39msleep(delay)\n\u001b[0;32m     49\u001b[0m \u001b[38;5;28mprint\u001b[39m(\u001b[38;5;124m\"\u001b[39m\u001b[38;5;124mSweep complete. Resetting both channels to 0 V...\u001b[39m\u001b[38;5;124m\"\u001b[39m)\n\u001b[0;32m     51\u001b[0m \u001b[38;5;66;03m# Set both AO1 and AO2 to 0V\u001b[39;00m\n",
      "\u001b[1;31mKeyboardInterrupt\u001b[0m: "
     ]
    }
   ],
   "source": [
    "# โจทย์\n",
    "# ต้องการ list ของ volt ที่ใช้ใส่ในหัวแสกน เพื่อใช้คุมตำแหน่งตั้งแต่ -200 um - 200 um\n",
    "# โดยเรารู้ว่า 0.01 V = 1 um\n",
    "# input -> [x1,x2,x3,...,xn]\n",
    "# output -> [v1,v2,v3,....,vn]\n",
    "# โดยที่ n คือจำนวน step การสแกน, เรารู้อีกอย่างว่า x2-x1 = (xn-x1)/step\n",
    "\n",
    "# for loop + np.append\n",
    "ratio = 0.01\n",
    "start_x = -100\n",
    "stop_x = 100\n",
    "start_y = -100\n",
    "stop_y = 100\n",
    "n = 200\n",
    "row = 200\n",
    "\n",
    "x = np.linspace(start_x,stop_x,n)\n",
    "Vx= x*ratio\n",
    "Vx = np.tile(Vx,row)\n",
    "\n",
    "y = np.linspace(start_y,stop_y,row)\n",
    "Vy_temp= y*ratio\n",
    "Vy = np.array([])\n",
    "for i in range(np.size(y)*row):\n",
    "  Vy = np.append(Vy,Vy_temp[i//row])\n",
    "\n",
    "# Generate sweep arrays\n",
    "voltages_ao1 = Vx  # AO1:\n",
    "voltages_ao2 = Vy  # AO2:\n",
    "\n",
    "# Voltage range limits\n",
    "v_min = -2.0\n",
    "v_max = 2.0\n",
    "\n",
    "# Delay between voltage steps (in seconds)\n",
    "delay = 0.001\n",
    "\n",
    "# Create and use the DAQ task\n",
    "with nidaqmx.Task() as task:\n",
    "    # Add AO channels with voltage limits\n",
    "    task.ao_channels.add_ao_voltage_chan(\"Dev1/ao1\", min_val=v_min, max_val=v_max)\n",
    "    task.ao_channels.add_ao_voltage_chan(\"Dev1/ao2\", min_val=v_min, max_val=v_max)\n",
    "\n",
    "    # Sweep voltage output\n",
    "    for v1, v2 in zip(voltages_ao1, voltages_ao2):\n",
    "        task.write([v1, v2])\n",
    "        time.sleep(delay)\n",
    "\n",
    "    print(\"Sweep complete. Resetting both channels to 0 V...\")\n",
    "\n",
    "    # Set both AO1 and AO2 to 0V\n",
    "    task.write([0.0, 0.0])\n",
    "    time.sleep(0.1)  # Optional: allow time for voltage to settle\n",
    "\n",
    "print(\"Both channels set to 0 V and task finished.\")"
   ]
  }
 ],
 "metadata": {
  "kernelspec": {
   "display_name": "base",
   "language": "python",
   "name": "python3"
  },
  "language_info": {
   "codemirror_mode": {
    "name": "ipython",
    "version": 3
   },
   "file_extension": ".py",
   "mimetype": "text/x-python",
   "name": "python",
   "nbconvert_exporter": "python",
   "pygments_lexer": "ipython3",
   "version": "3.12.7"
  }
 },
 "nbformat": 4,
 "nbformat_minor": 5
}
