{
 "cells": [
  {
   "cell_type": "code",
   "execution_count": 1,
   "id": "70e2fc4e",
   "metadata": {},
   "outputs": [],
   "source": [
    "import nidaqmx\n",
    "from nidaqmx.constants import AcquisitionType"
   ]
  },
  {
   "cell_type": "code",
   "execution_count": 23,
   "id": "821a1f70",
   "metadata": {},
   "outputs": [],
   "source": [
    "# Voltage range settings\n",
    "v_min = -2.0     # Minimum voltage (in volts)\n",
    "v_max = 2.0     # Maximum voltage (in volts)\n",
    "\n",
    "# Desired output voltages\n",
    "voltages = [0, 0]  # AO1 AO2 \n",
    "\n",
    "# Create a task\n",
    "with nidaqmx.Task() as task:\n",
    "    # Add analog output channels with voltage range limits\n",
    "    task.ao_channels.add_ao_voltage_chan(\"Dev1/ao1\", min_val=v_min, max_val=v_max)\n",
    "    task.ao_channels.add_ao_voltage_chan(\"Dev1/ao2\", min_val=v_min, max_val=v_max)\n",
    "\n",
    "    # Write voltages to AO1 and AO2\n",
    "    task.write(voltages, auto_start=True)\n",
    "\n",
    "# Task ends here, and output stops\n"
   ]
  }
 ],
 "metadata": {
  "kernelspec": {
   "display_name": "base",
   "language": "python",
   "name": "python3"
  },
  "language_info": {
   "codemirror_mode": {
    "name": "ipython",
    "version": 3
   },
   "file_extension": ".py",
   "mimetype": "text/x-python",
   "name": "python",
   "nbconvert_exporter": "python",
   "pygments_lexer": "ipython3",
   "version": "3.12.7"
  }
 },
 "nbformat": 4,
 "nbformat_minor": 5
}
