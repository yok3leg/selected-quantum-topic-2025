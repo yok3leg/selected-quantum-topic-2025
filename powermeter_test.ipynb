{
 "cells": [
  {
   "cell_type": "code",
   "execution_count": 2,
   "id": "ec7af58b",
   "metadata": {},
   "outputs": [],
   "source": [
    "import pyvisa\n",
    "import pyqtgraph as pg\n",
    "from pyqtgraph.Qt import QtCore, QtWidgets\n",
    "import sys\n",
    "import numpy as np\n",
    "import time"
   ]
  },
  {
   "cell_type": "code",
   "execution_count": 5,
   "id": "df574c75",
   "metadata": {},
   "outputs": [
    {
     "name": "stdout",
     "output_type": "stream",
     "text": [
      "('USB0::0x1313::0x8072::P2000053::INSTR', 'ASRL1::INSTR', 'ASRL3::INSTR', 'ASRL10::INSTR')\n",
      "Connected to Thorlabs,PM100USB,P2000053,1.1.0\n",
      "\n"
     ]
    },
    {
     "ename": "SystemExit",
     "evalue": "0",
     "output_type": "error",
     "traceback": [
      "An exception has occurred, use %tb to see the full traceback.\n",
      "\u001b[1;31mSystemExit\u001b[0m\u001b[1;31m:\u001b[0m 0\n"
     ]
    },
    {
     "name": "stderr",
     "output_type": "stream",
     "text": [
      "c:\\Users\\My lAb NajA ii\\anaconda3\\Lib\\site-packages\\IPython\\core\\interactiveshell.py:3585: UserWarning: To exit: use 'exit', 'quit', or Ctrl-D.\n",
      "  warn(\"To exit: use 'exit', 'quit', or Ctrl-D.\", stacklevel=1)\n"
     ]
    }
   ],
   "source": [
    "\n",
    "# Connect to the PM100USB\n",
    "rm = pyvisa.ResourceManager()\n",
    "instruments = rm.list_resources()\n",
    "print(instruments)\n",
    "\n",
    "# Automatically connect to Thorlabs PM100USB\n",
    "pm100 = None\n",
    "for resource in instruments:\n",
    "    if 'USB' in resource:\n",
    "        try:\n",
    "            inst = rm.open_resource(resource)\n",
    "            idn = inst.query(\"*IDN?\")\n",
    "            if \"PM100\" in idn:\n",
    "                pm100 = inst\n",
    "                print(f\"Connected to {idn}\")\n",
    "                break\n",
    "        except Exception as e:\n",
    "            print(f\"Failed to connect to {resource}: {e}\")\n",
    "\n",
    "if pm100 is None:\n",
    "    raise Exception(\"Thorlabs PM100USB not found\")\n",
    "\n",
    "# Setup plot\n",
    "app = QtWidgets.QApplication(sys.argv)\n",
    "win = pg.GraphicsLayoutWidget(show=True, title=\"Real-time Power Meter Reading\")\n",
    "win.resize(800, 400)\n",
    "plot = win.addPlot(title=\"Optical Power vs Time\")\n",
    "curve = plot.plot(pen='y')\n",
    "plot.setLabel('left', \"Power\", units='W')\n",
    "plot.setLabel('bottom', \"Time\", units='s')\n",
    "\n",
    "data = np.zeros(100)\n",
    "timestamps = np.linspace(-10, 0, 100)\n",
    "\n",
    "# Timer callback to update plot\n",
    "def update():\n",
    "    global data, timestamps\n",
    "    try:\n",
    "        power = float(pm100.query(\"READ?\"))\n",
    "        data = np.roll(data, -1)\n",
    "        data[-1] = power\n",
    "        timestamps = np.roll(timestamps, -1)\n",
    "        timestamps[-1] = time.time() - start_time\n",
    "        curve.setData(timestamps - timestamps[-1], data)\n",
    "    except Exception as e:\n",
    "        print(f\"Read error: {e}\")\n",
    "\n",
    "# Timer\n",
    "timer = QtCore.QTimer()\n",
    "timer.timeout.connect(update)\n",
    "timer.start(100)  # every 100 ms\n",
    "\n",
    "start_time = time.time()\n",
    "sys.exit(app.exec_())"
   ]
  }
 ],
 "metadata": {
  "kernelspec": {
   "display_name": "base",
   "language": "python",
   "name": "python3"
  },
  "language_info": {
   "codemirror_mode": {
    "name": "ipython",
    "version": 3
   },
   "file_extension": ".py",
   "mimetype": "text/x-python",
   "name": "python",
   "nbconvert_exporter": "python",
   "pygments_lexer": "ipython3",
   "version": "3.12.7"
  }
 },
 "nbformat": 4,
 "nbformat_minor": 5
}
