{
 "cells": [
  {
   "cell_type": "code",
   "execution_count": 9,
   "id": "3d027820",
   "metadata": {},
   "outputs": [],
   "source": [
    "import numpy as np\n",
    "import nidaqmx\n",
    "from nidaqmx.constants import Edge, LineGrouping, AcquisitionType, Signal\n",
    "from nidaqmx.stream_writers import AnalogMultiChannelWriter, DigitalSingleChannelWriter\n",
    "import time"
   ]
  },
  {
   "cell_type": "code",
   "execution_count": 23,
   "id": "5ce3fed2",
   "metadata": {},
   "outputs": [
    {
     "name": "stdout",
     "output_type": "stream",
     "text": [
      "Sweep complete. Trigger pulses sent via AO Sample Clock on PFI0.\n"
     ]
    }
   ],
   "source": [
    "# Sweep parameters\n",
    "voltages_ao1 = np.linspace(-2, 2, 100)\n",
    "voltages_ao2 = np.linspace(-2, 2, 100)\n",
    "v_min, v_max = -2.0, 2.0\n",
    "sample_rate = 100\n",
    "num_samples = len(voltages_ao1)\n",
    "\n",
    "# Analog data (2 channels x N samples)\n",
    "ao_data = np.vstack([voltages_ao1, voltages_ao2])\n",
    "\n",
    "with nidaqmx.Task() as ao_task:\n",
    "    # Add AO channels\n",
    "    ao_task.ao_channels.add_ao_voltage_chan(\"Dev1/ao1\", min_val=v_min, max_val=v_max)\n",
    "    ao_task.ao_channels.add_ao_voltage_chan(\"Dev1/ao2\", min_val=v_min, max_val=v_max)\n",
    "\n",
    "    # Configure AO sample clock\n",
    "    ao_task.timing.cfg_samp_clk_timing(rate=sample_rate,\n",
    "                                       sample_mode=AcquisitionType.FINITE,\n",
    "                                       samps_per_chan=num_samples)\n",
    "\n",
    "    # ✅ Export the AO Sample Clock to PFI0\n",
    "    ao_task.export_signals.sample_clock_output_term = \"Dev1/PFI0\"\n",
    "\n",
    "    # Write data\n",
    "    AnalogMultiChannelWriter(ao_task.out_stream).write_many_sample(ao_data)\n",
    "\n",
    "    # Start task\n",
    "    ao_task.start()\n",
    "    ao_task.wait_until_done(timeout=10)\n",
    "print(\"Sweep complete. Trigger pulses sent via AO Sample Clock on PFI0.\")\n",
    "\n",
    "with nidaqmx.Task() as task:\n",
    "    # Add analog output channels with voltage range limits\n",
    "    task.ao_channels.add_ao_voltage_chan(\"Dev1/ao1\", min_val=v_min, max_val=v_max)\n",
    "    task.ao_channels.add_ao_voltage_chan(\"Dev1/ao2\", min_val=v_min, max_val=v_max)\n",
    "    task.write([0, 0], auto_start=True)"
   ]
  }
 ],
 "metadata": {
  "kernelspec": {
   "display_name": "base",
   "language": "python",
   "name": "python3"
  },
  "language_info": {
   "codemirror_mode": {
    "name": "ipython",
    "version": 3
   },
   "file_extension": ".py",
   "mimetype": "text/x-python",
   "name": "python",
   "nbconvert_exporter": "python",
   "pygments_lexer": "ipython3",
   "version": "3.12.7"
  }
 },
 "nbformat": 4,
 "nbformat_minor": 5
}
